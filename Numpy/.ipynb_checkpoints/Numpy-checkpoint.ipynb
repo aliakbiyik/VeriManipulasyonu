{
 "cells": [
  {
   "cell_type": "markdown",
   "id": "ebe8da0f-3f65-4beb-a355-ef9d30564fa7",
   "metadata": {},
   "source": [
    "**Numpy**\n",
    "Numerical Python"
   ]
  },
  {
   "cell_type": "markdown",
   "id": "f6d98087-6b20-4984-b6fb-3d03a0308a22",
   "metadata": {},
   "source": [
    "-Bilimsel hesaplamalar için kullanılır."
   ]
  },
  {
   "cell_type": "markdown",
   "id": "b8f56a8b-543b-4fbe-b1fb-2c98ccac3ee8",
   "metadata": {},
   "source": [
    "-Arrayler/çok boyutlu arrayler ve matrisler üzerinde yüksek performanslı çalışma imkanı sağlar."
   ]
  },
  {
   "cell_type": "markdown",
   "id": "665c1f48-ea7b-4d8d-b4d7-3fb891071062",
   "metadata": {},
   "source": [
    "-Temelleri 1995'te (matrix-sig, Guido Van Rossum) atılmış nihai olarak 2005(Travis Oliphant) yılında hayata geçmiştir."
   ]
  },
  {
   "cell_type": "markdown",
   "id": "d3af1a2a-01e9-4b4b-bcab-5a789cd02a6f",
   "metadata": {},
   "source": [
    "-Listelere benzerdir,farkı;verimli veri saklama ve vektöre operasyonlardır."
   ]
  },
  {
   "cell_type": "code",
   "execution_count": null,
   "id": "cc5938b8-a7d0-4466-9b24-186c8230be31",
   "metadata": {},
   "outputs": [],
   "source": []
  }
 ],
 "metadata": {
  "kernelspec": {
   "display_name": "Python 3 (ipykernel)",
   "language": "python",
   "name": "python3"
  },
  "language_info": {
   "codemirror_mode": {
    "name": "ipython",
    "version": 3
   },
   "file_extension": ".py",
   "mimetype": "text/x-python",
   "name": "python",
   "nbconvert_exporter": "python",
   "pygments_lexer": "ipython3",
   "version": "3.11.5"
  }
 },
 "nbformat": 4,
 "nbformat_minor": 5
}
