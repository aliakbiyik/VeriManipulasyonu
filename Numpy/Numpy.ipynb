{
 "cells": [
  {
   "cell_type": "markdown",
   "id": "ebe8da0f-3f65-4beb-a355-ef9d30564fa7",
   "metadata": {},
   "source": [
    "**Numpy**\n",
    "(Numerical Python)"
   ]
  },
  {
   "cell_type": "markdown",
   "id": "f6d98087-6b20-4984-b6fb-3d03a0308a22",
   "metadata": {},
   "source": [
    "-Bilimsel hesaplamalar için kullanılır."
   ]
  },
  {
   "cell_type": "markdown",
   "id": "b8f56a8b-543b-4fbe-b1fb-2c98ccac3ee8",
   "metadata": {},
   "source": [
    "-Arrayler/çok boyutlu arrayler ve matrisler üzerinde yüksek performanslı çalışma imkanı sağlar."
   ]
  },
  {
   "cell_type": "markdown",
   "id": "665c1f48-ea7b-4d8d-b4d7-3fb891071062",
   "metadata": {},
   "source": [
    "-Temelleri 1995'te (matrix-sig, Guido Van Rossum) atılmış nihai olarak 2005(Travis Oliphant) yılında hayata geçmiştir."
   ]
  },
  {
   "cell_type": "markdown",
   "id": "d3af1a2a-01e9-4b4b-bcab-5a789cd02a6f",
   "metadata": {},
   "source": [
    "-Listelere benzerdir,farkı;verimli veri saklama ve vektöre operasyonlardır."
   ]
  },
  {
   "cell_type": "code",
   "execution_count": 1,
   "id": "cc5938b8-a7d0-4466-9b24-186c8230be31",
   "metadata": {},
   "outputs": [],
   "source": [
    "import numpy as np"
   ]
  },
  {
   "cell_type": "code",
   "execution_count": 13,
   "id": "1ace8970-d199-4515-b83b-d368928e9b83",
   "metadata": {},
   "outputs": [],
   "source": [
    "a = np.array([1,2,3,4])\n",
    "b = np.array([2,3,4,5])"
   ]
  },
  {
   "cell_type": "code",
   "execution_count": 14,
   "id": "45a054cb-bc08-4d0d-9fb8-01390d4c4ce4",
   "metadata": {},
   "outputs": [
    {
     "data": {
      "text/plain": [
       "array([ 2,  6, 12, 20])"
      ]
     },
     "execution_count": 14,
     "metadata": {},
     "output_type": "execute_result"
    }
   ],
   "source": [
    "a*b"
   ]
  },
  {
   "cell_type": "markdown",
   "id": "07b5146a-583c-4159-8089-2fe723311dbb",
   "metadata": {},
   "source": [
    "**Numpy Array'i Oluşturmak**"
   ]
  },
  {
   "cell_type": "code",
   "execution_count": 20,
   "id": "3cf8ef67-9332-41b6-8ddc-66787958c80d",
   "metadata": {},
   "outputs": [
    {
     "data": {
      "text/plain": [
       "array([1, 2, 3, 4, 5])"
      ]
     },
     "execution_count": 20,
     "metadata": {},
     "output_type": "execute_result"
    }
   ],
   "source": [
    "c= np.array([1,2,3,4,5])\n",
    "c"
   ]
  },
  {
   "cell_type": "code",
   "execution_count": 19,
   "id": "5fdb667d-ad93-4edc-8a09-448b23296329",
   "metadata": {},
   "outputs": [
    {
     "data": {
      "text/plain": [
       "numpy.ndarray"
      ]
     },
     "execution_count": 19,
     "metadata": {},
     "output_type": "execute_result"
    }
   ],
   "source": [
    "type(c)"
   ]
  },
  {
   "cell_type": "code",
   "execution_count": 25,
   "id": "654a0599-4ab5-4c60-9fd5-0a59144ac9d2",
   "metadata": {},
   "outputs": [
    {
     "data": {
      "text/plain": [
       "array([1, 2, 3, 4, 5])"
      ]
     },
     "execution_count": 25,
     "metadata": {},
     "output_type": "execute_result"
    }
   ],
   "source": [
    "np.array([1.5,2,3,4,5], dtype=\"int\")\n"
   ]
  },
  {
   "cell_type": "code",
   "execution_count": 26,
   "id": "1add8810-69d8-4092-adb4-cdf57a0c9178",
   "metadata": {},
   "outputs": [],
   "source": [
    "#Sıfırdan array oluşturma"
   ]
  },
  {
   "cell_type": "code",
   "execution_count": 27,
   "id": "9b859b07-4e4e-4f5a-9c86-f36fd9de7f6f",
   "metadata": {},
   "outputs": [
    {
     "data": {
      "text/plain": [
       "array([0, 0, 0, 0, 0, 0, 0, 0, 0, 0])"
      ]
     },
     "execution_count": 27,
     "metadata": {},
     "output_type": "execute_result"
    }
   ],
   "source": [
    "np.zeros(10,dtype = int)"
   ]
  },
  {
   "cell_type": "code",
   "execution_count": 29,
   "id": "96c9647a-6c61-4c14-9ee1-c1bc7a3e3466",
   "metadata": {},
   "outputs": [
    {
     "data": {
      "text/plain": [
       "array([[1, 1, 1, 1, 1],\n",
       "       [1, 1, 1, 1, 1],\n",
       "       [1, 1, 1, 1, 1]])"
      ]
     },
     "execution_count": 29,
     "metadata": {},
     "output_type": "execute_result"
    }
   ],
   "source": [
    "np.ones((3,5),dtype=\"int\")"
   ]
  },
  {
   "cell_type": "code",
   "execution_count": 30,
   "id": "158e54b1-5a91-4e03-ab0f-287458b00d75",
   "metadata": {},
   "outputs": [
    {
     "data": {
      "text/plain": [
       "array([[3, 3, 3, 3, 3],\n",
       "       [3, 3, 3, 3, 3],\n",
       "       [3, 3, 3, 3, 3]])"
      ]
     },
     "execution_count": 30,
     "metadata": {},
     "output_type": "execute_result"
    }
   ],
   "source": [
    "np.full((3,5),3)"
   ]
  },
  {
   "cell_type": "code",
   "execution_count": 32,
   "id": "e023d479-5166-4ca3-9872-805e69e97fdb",
   "metadata": {},
   "outputs": [
    {
     "data": {
      "text/plain": [
       "array([ 0,  3,  6,  9, 12, 15, 18, 21, 24, 27, 30])"
      ]
     },
     "execution_count": 32,
     "metadata": {},
     "output_type": "execute_result"
    }
   ],
   "source": [
    "np.arange(0,32,3)"
   ]
  },
  {
   "cell_type": "code",
   "execution_count": 33,
   "id": "22b930fc-349f-4d05-8102-67dcc5cd9d4b",
   "metadata": {},
   "outputs": [
    {
     "data": {
      "text/plain": [
       "array([0.        , 0.11111111, 0.22222222, 0.33333333, 0.44444444,\n",
       "       0.55555556, 0.66666667, 0.77777778, 0.88888889, 1.        ])"
      ]
     },
     "execution_count": 33,
     "metadata": {},
     "output_type": "execute_result"
    }
   ],
   "source": [
    "np.linspace(0,1,10)"
   ]
  },
  {
   "cell_type": "code",
   "execution_count": 35,
   "id": "568db66e-bf1e-48b7-9b57-de3b31e807b9",
   "metadata": {},
   "outputs": [
    {
     "data": {
      "text/plain": [
       "array([[11.73650462, 16.06542256, 13.46633454, 11.28184989],\n",
       "       [-1.77866123, 15.4024638 ,  2.55532543,  8.51819826],\n",
       "       [15.00867844,  4.31014935,  6.39674103,  8.68213841]])"
      ]
     },
     "execution_count": 35,
     "metadata": {},
     "output_type": "execute_result"
    }
   ],
   "source": [
    "np.random.normal(10,4,(3,4))"
   ]
  },
  {
   "cell_type": "code",
   "execution_count": 38,
   "id": "fec7f972-9f4a-4da4-8732-327187f1fe7e",
   "metadata": {},
   "outputs": [
    {
     "data": {
      "text/plain": [
       "array([[1, 6, 4],\n",
       "       [2, 5, 8],\n",
       "       [8, 0, 3]])"
      ]
     },
     "execution_count": 38,
     "metadata": {},
     "output_type": "execute_result"
    }
   ],
   "source": [
    "np.random.randint(0,10,(3,3))"
   ]
  },
  {
   "cell_type": "markdown",
   "id": "98aa9a4c-2e91-4bb5-98c0-c076e726ffc3",
   "metadata": {},
   "source": [
    "**Özellikleri**\n",
    "* ndim: boyut sayısı\n",
    "* shape: boyut bilgisi\n",
    "* size: toplam eleman sayısı\n",
    "* dtype: array veri tipi"
   ]
  },
  {
   "cell_type": "code",
   "execution_count": 39,
   "id": "5cbcaf00-318f-4db0-8746-3d25f3081d0d",
   "metadata": {},
   "outputs": [
    {
     "data": {
      "text/plain": [
       "array([2, 6, 3, 8, 9, 1, 7, 6, 2, 2])"
      ]
     },
     "execution_count": 39,
     "metadata": {},
     "output_type": "execute_result"
    }
   ],
   "source": [
    "np.random.randint(10,size=10)"
   ]
  },
  {
   "cell_type": "code",
   "execution_count": 40,
   "id": "e02c658a-4396-40c0-9602-be5903e58804",
   "metadata": {},
   "outputs": [],
   "source": [
    "a=np.random.randint(10,size=10)"
   ]
  },
  {
   "cell_type": "code",
   "execution_count": 41,
   "id": "b0081212-8d0d-46b2-8831-6b29262db33f",
   "metadata": {},
   "outputs": [
    {
     "data": {
      "text/plain": [
       "1"
      ]
     },
     "execution_count": 41,
     "metadata": {},
     "output_type": "execute_result"
    }
   ],
   "source": [
    "a.ndim"
   ]
  },
  {
   "cell_type": "code",
   "execution_count": 42,
   "id": "dcfe83d9-d7a4-460b-9772-1683fb155a6b",
   "metadata": {},
   "outputs": [
    {
     "data": {
      "text/plain": [
       "(10,)"
      ]
     },
     "execution_count": 42,
     "metadata": {},
     "output_type": "execute_result"
    }
   ],
   "source": [
    "a.shape"
   ]
  },
  {
   "cell_type": "code",
   "execution_count": 43,
   "id": "14b6d30b-64a1-4078-9d0b-8489546080b9",
   "metadata": {},
   "outputs": [
    {
     "data": {
      "text/plain": [
       "10"
      ]
     },
     "execution_count": 43,
     "metadata": {},
     "output_type": "execute_result"
    }
   ],
   "source": [
    "a.size"
   ]
  },
  {
   "cell_type": "code",
   "execution_count": 44,
   "id": "14b672d8-9043-4d92-a5a7-62edc66ded1e",
   "metadata": {},
   "outputs": [
    {
     "data": {
      "text/plain": [
       "dtype('int32')"
      ]
     },
     "execution_count": 44,
     "metadata": {},
     "output_type": "execute_result"
    }
   ],
   "source": [
    "a.dtype"
   ]
  },
  {
   "cell_type": "code",
   "execution_count": 45,
   "id": "1f81fa43-1678-4e1e-89e3-95970793f119",
   "metadata": {},
   "outputs": [],
   "source": [
    "b= np.random.randint(10,size=(3,5))"
   ]
  },
  {
   "cell_type": "code",
   "execution_count": 47,
   "id": "727c721d-584f-4b23-ae25-87fb8a3151cd",
   "metadata": {},
   "outputs": [
    {
     "data": {
      "text/plain": [
       "array([[4, 8, 3, 4, 9],\n",
       "       [4, 6, 8, 6, 4],\n",
       "       [5, 1, 1, 1, 0]])"
      ]
     },
     "execution_count": 47,
     "metadata": {},
     "output_type": "execute_result"
    }
   ],
   "source": [
    "b"
   ]
  },
  {
   "cell_type": "code",
   "execution_count": 48,
   "id": "141924fb-40dd-46ed-a6a2-a8aa062bed9a",
   "metadata": {},
   "outputs": [
    {
     "data": {
      "text/plain": [
       "2"
      ]
     },
     "execution_count": 48,
     "metadata": {},
     "output_type": "execute_result"
    }
   ],
   "source": [
    "b.ndim"
   ]
  },
  {
   "cell_type": "code",
   "execution_count": 49,
   "id": "81bba2b3-77f3-4f77-8bf5-7bcaaa7b8839",
   "metadata": {},
   "outputs": [
    {
     "data": {
      "text/plain": [
       "(3, 5)"
      ]
     },
     "execution_count": 49,
     "metadata": {},
     "output_type": "execute_result"
    }
   ],
   "source": [
    "b.shape"
   ]
  },
  {
   "cell_type": "code",
   "execution_count": 50,
   "id": "2fe919a2-d514-4a83-ad2d-13930622e92e",
   "metadata": {},
   "outputs": [
    {
     "data": {
      "text/plain": [
       "15"
      ]
     },
     "execution_count": 50,
     "metadata": {},
     "output_type": "execute_result"
    }
   ],
   "source": [
    "b.size"
   ]
  },
  {
   "cell_type": "code",
   "execution_count": 51,
   "id": "829f23ad-666f-4b38-8420-a326daad41d0",
   "metadata": {},
   "outputs": [
    {
     "data": {
      "text/plain": [
       "dtype('int32')"
      ]
     },
     "execution_count": 51,
     "metadata": {},
     "output_type": "execute_result"
    }
   ],
   "source": [
    "b.dtype"
   ]
  },
  {
   "cell_type": "markdown",
   "id": "b7f09f3a-34c2-4471-91de-6024cc1e07f3",
   "metadata": {},
   "source": [
    "**Yeniden Şekillendirme (reshaping)**"
   ]
  },
  {
   "cell_type": "code",
   "execution_count": 53,
   "id": "dc49ae41-c52b-4d77-b02a-84f929fd75cc",
   "metadata": {},
   "outputs": [
    {
     "data": {
      "text/plain": [
       "array([1, 2, 3, 4, 5, 6, 7, 8, 9])"
      ]
     },
     "execution_count": 53,
     "metadata": {},
     "output_type": "execute_result"
    }
   ],
   "source": [
    "np.arange(1,10)"
   ]
  },
  {
   "cell_type": "code",
   "execution_count": 54,
   "id": "819f5dec-0269-4efc-bdf8-9d2c969980f0",
   "metadata": {},
   "outputs": [
    {
     "data": {
      "text/plain": [
       "array([[1, 2, 3],\n",
       "       [4, 5, 6],\n",
       "       [7, 8, 9]])"
      ]
     },
     "execution_count": 54,
     "metadata": {},
     "output_type": "execute_result"
    }
   ],
   "source": [
    "np.arange(1,10).reshape((3,3))"
   ]
  },
  {
   "cell_type": "code",
   "execution_count": 55,
   "id": "85b9386b-0b52-4c6c-9f05-f13e86d1b3ba",
   "metadata": {},
   "outputs": [],
   "source": [
    "a= np.arange(1,10)"
   ]
  },
  {
   "cell_type": "code",
   "execution_count": 56,
   "id": "2438932e-f3ad-4d79-8223-c8d4323a2e8a",
   "metadata": {},
   "outputs": [
    {
     "data": {
      "text/plain": [
       "array([1, 2, 3, 4, 5, 6, 7, 8, 9])"
      ]
     },
     "execution_count": 56,
     "metadata": {},
     "output_type": "execute_result"
    }
   ],
   "source": [
    "a"
   ]
  },
  {
   "cell_type": "code",
   "execution_count": 57,
   "id": "6dac6f70-97f0-44a2-8b1d-6d9a2c788796",
   "metadata": {},
   "outputs": [
    {
     "data": {
      "text/plain": [
       "1"
      ]
     },
     "execution_count": 57,
     "metadata": {},
     "output_type": "execute_result"
    }
   ],
   "source": [
    "a.ndim"
   ]
  },
  {
   "cell_type": "code",
   "execution_count": 59,
   "id": "cddf5384-8ad9-4742-ab2d-74c0b18a3851",
   "metadata": {},
   "outputs": [],
   "source": [
    "b=a.reshape((1,9))"
   ]
  },
  {
   "cell_type": "code",
   "execution_count": 60,
   "id": "b4261e76-e83e-491f-b99d-dd7368e16ea5",
   "metadata": {},
   "outputs": [
    {
     "data": {
      "text/plain": [
       "2"
      ]
     },
     "execution_count": 60,
     "metadata": {},
     "output_type": "execute_result"
    }
   ],
   "source": [
    "b.ndim"
   ]
  },
  {
   "cell_type": "markdown",
   "id": "23fe8713-dd16-4ba1-ba18-f45d4318a31f",
   "metadata": {},
   "source": [
    "**Array Birlestirme (Concatenation)**"
   ]
  },
  {
   "cell_type": "code",
   "execution_count": 61,
   "id": "e3719cc0-5cf6-4827-b4d6-1e8857bbd0fd",
   "metadata": {},
   "outputs": [],
   "source": [
    "x=np.array([1,2,3])\n",
    "y=np.array([4,5,6])"
   ]
  },
  {
   "cell_type": "code",
   "execution_count": 63,
   "id": "5b5bb0a4-b60b-4736-981f-99b6c9a1a29f",
   "metadata": {},
   "outputs": [
    {
     "data": {
      "text/plain": [
       "array([1, 2, 3, 4, 5, 6])"
      ]
     },
     "execution_count": 63,
     "metadata": {},
     "output_type": "execute_result"
    }
   ],
   "source": [
    "np.concatenate([x,y])"
   ]
  },
  {
   "cell_type": "code",
   "execution_count": 64,
   "id": "8942eef2-67b5-4f00-88f7-6239791d2e25",
   "metadata": {},
   "outputs": [],
   "source": [
    "z=np.array([7,8,9])"
   ]
  },
  {
   "cell_type": "code",
   "execution_count": 65,
   "id": "262a158b-1836-4da3-a217-fd5bda2e4013",
   "metadata": {},
   "outputs": [
    {
     "data": {
      "text/plain": [
       "array([1, 2, 3, 4, 5, 6, 7, 8, 9])"
      ]
     },
     "execution_count": 65,
     "metadata": {},
     "output_type": "execute_result"
    }
   ],
   "source": [
    "np.concatenate([x,y,z])"
   ]
  },
  {
   "cell_type": "markdown",
   "id": "b4bc8eb1-c4c7-4edc-98cc-462be483a4ff",
   "metadata": {},
   "source": [
    "* İki Boyut"
   ]
  },
  {
   "cell_type": "code",
   "execution_count": 66,
   "id": "c5b3009d-404a-4efc-82f2-ef25d4aaaf39",
   "metadata": {},
   "outputs": [],
   "source": [
    "a=np.array([[1,2,3],[4,5,6]])"
   ]
  },
  {
   "cell_type": "markdown",
   "id": "fe926f7c-9c37-4f96-bfb4-613a3d3044ca",
   "metadata": {},
   "source": [
    "Satır bazında birleştirme"
   ]
  },
  {
   "cell_type": "code",
   "execution_count": 71,
   "id": "19f60a21-adaa-484b-95a7-930ca7ffd36f",
   "metadata": {},
   "outputs": [
    {
     "data": {
      "text/plain": [
       "array([[1, 2, 3],\n",
       "       [4, 5, 6],\n",
       "       [1, 2, 3],\n",
       "       [4, 5, 6]])"
      ]
     },
     "execution_count": 71,
     "metadata": {},
     "output_type": "execute_result"
    }
   ],
   "source": [
    "np.concatenate([a,a])"
   ]
  },
  {
   "cell_type": "markdown",
   "id": "08f1a66e-afe3-466f-b3d8-fe86426e967c",
   "metadata": {},
   "source": [
    "Sütun bazında birleştirme"
   ]
  },
  {
   "cell_type": "code",
   "execution_count": 72,
   "id": "3503de14-6070-4d3a-81c8-ff92f5f62113",
   "metadata": {},
   "outputs": [
    {
     "data": {
      "text/plain": [
       "array([[1, 2, 3, 1, 2, 3],\n",
       "       [4, 5, 6, 4, 5, 6]])"
      ]
     },
     "execution_count": 72,
     "metadata": {},
     "output_type": "execute_result"
    }
   ],
   "source": [
    "np.concatenate([a,a],axis=1)"
   ]
  },
  {
   "cell_type": "markdown",
   "id": "166468c4-284b-4348-935d-791648401ae7",
   "metadata": {},
   "source": [
    "**Array Ayırma (Splittig)**"
   ]
  },
  {
   "cell_type": "code",
   "execution_count": 4,
   "id": "94b819f7-7482-4c53-a2b0-c002568150e0",
   "metadata": {},
   "outputs": [
    {
     "data": {
      "text/plain": [
       "array([ 1,  2,  3, 99, 99,  3,  2,  1])"
      ]
     },
     "execution_count": 4,
     "metadata": {},
     "output_type": "execute_result"
    }
   ],
   "source": [
    "x=np.array([1,2,3,99,99,3,2,1])\n",
    "x"
   ]
  },
  {
   "cell_type": "code",
   "execution_count": 5,
   "id": "cc9692c4-744c-43b3-a59d-6da0ed11b3c0",
   "metadata": {},
   "outputs": [
    {
     "data": {
      "text/plain": [
       "[array([1, 2, 3]), array([99, 99]), array([3, 2, 1])]"
      ]
     },
     "execution_count": 5,
     "metadata": {},
     "output_type": "execute_result"
    }
   ],
   "source": [
    "np.split(x,[3,5])"
   ]
  },
  {
   "cell_type": "code",
   "execution_count": 6,
   "id": "b1afe7f8-95a7-4e98-8395-4cc9df50418c",
   "metadata": {},
   "outputs": [],
   "source": [
    "a,b,c=np.split(x,[3,5])"
   ]
  },
  {
   "cell_type": "code",
   "execution_count": 7,
   "id": "1d6cd45e-3cc2-4273-b0f8-cc8f8d9375af",
   "metadata": {},
   "outputs": [
    {
     "data": {
      "text/plain": [
       "array([1, 2, 3])"
      ]
     },
     "execution_count": 7,
     "metadata": {},
     "output_type": "execute_result"
    }
   ],
   "source": [
    "a"
   ]
  },
  {
   "cell_type": "code",
   "execution_count": 8,
   "id": "6897f1a3-db32-4268-bc20-cf5b70dd647f",
   "metadata": {},
   "outputs": [
    {
     "data": {
      "text/plain": [
       "array([99, 99])"
      ]
     },
     "execution_count": 8,
     "metadata": {},
     "output_type": "execute_result"
    }
   ],
   "source": [
    "b"
   ]
  },
  {
   "cell_type": "code",
   "execution_count": 9,
   "id": "a749d2f7-cb83-4e63-beaa-604e808633ce",
   "metadata": {},
   "outputs": [
    {
     "data": {
      "text/plain": [
       "array([3, 2, 1])"
      ]
     },
     "execution_count": 9,
     "metadata": {},
     "output_type": "execute_result"
    }
   ],
   "source": [
    "c"
   ]
  },
  {
   "cell_type": "markdown",
   "id": "6a884d12-0e65-4437-afd1-40f2ff9cbb64",
   "metadata": {},
   "source": [
    "* iki boyutlu ayırma"
   ]
  },
  {
   "cell_type": "code",
   "execution_count": 12,
   "id": "82457d3a-4510-4cdb-9a2a-6b996ce1888a",
   "metadata": {},
   "outputs": [
    {
     "data": {
      "text/plain": [
       "array([[ 0,  1,  2,  3],\n",
       "       [ 4,  5,  6,  7],\n",
       "       [ 8,  9, 10, 11],\n",
       "       [12, 13, 14, 15]])"
      ]
     },
     "execution_count": 12,
     "metadata": {},
     "output_type": "execute_result"
    }
   ],
   "source": [
    "m=np.arange(16).reshape(4,4)\n",
    "m"
   ]
  },
  {
   "cell_type": "code",
   "execution_count": 13,
   "id": "fcd1803c-c6b8-4142-9bd5-4e2de22e3d6a",
   "metadata": {},
   "outputs": [
    {
     "data": {
      "text/plain": [
       "[array([[0, 1, 2, 3],\n",
       "        [4, 5, 6, 7]]),\n",
       " array([[ 8,  9, 10, 11],\n",
       "        [12, 13, 14, 15]])]"
      ]
     },
     "execution_count": 13,
     "metadata": {},
     "output_type": "execute_result"
    }
   ],
   "source": [
    "np.vsplit(m,[2])"
   ]
  },
  {
   "cell_type": "code",
   "execution_count": 14,
   "id": "a391db74-ad42-4265-8068-06f7deca992b",
   "metadata": {},
   "outputs": [],
   "source": [
    "ust,alt=np.vsplit(m,[2])"
   ]
  },
  {
   "cell_type": "code",
   "execution_count": 15,
   "id": "72c2fd47-ae43-46a5-8678-1a5475b79d0d",
   "metadata": {},
   "outputs": [
    {
     "data": {
      "text/plain": [
       "array([[0, 1, 2, 3],\n",
       "       [4, 5, 6, 7]])"
      ]
     },
     "execution_count": 15,
     "metadata": {},
     "output_type": "execute_result"
    }
   ],
   "source": [
    "ust"
   ]
  },
  {
   "cell_type": "code",
   "execution_count": 16,
   "id": "efe8a305-7bdd-40b6-81f6-6fc738652db8",
   "metadata": {},
   "outputs": [
    {
     "data": {
      "text/plain": [
       "array([[ 8,  9, 10, 11],\n",
       "       [12, 13, 14, 15]])"
      ]
     },
     "execution_count": 16,
     "metadata": {},
     "output_type": "execute_result"
    }
   ],
   "source": [
    "alt"
   ]
  },
  {
   "cell_type": "code",
   "execution_count": 17,
   "id": "fbe1199d-65d8-46a3-86d0-c4e6714225bc",
   "metadata": {},
   "outputs": [
    {
     "data": {
      "text/plain": [
       "array([[ 0,  1,  2,  3],\n",
       "       [ 4,  5,  6,  7],\n",
       "       [ 8,  9, 10, 11],\n",
       "       [12, 13, 14, 15]])"
      ]
     },
     "execution_count": 17,
     "metadata": {},
     "output_type": "execute_result"
    }
   ],
   "source": [
    "m"
   ]
  },
  {
   "cell_type": "code",
   "execution_count": 18,
   "id": "8745f8ad-3dc2-435b-8bfa-a6619f5b8c92",
   "metadata": {},
   "outputs": [
    {
     "data": {
      "text/plain": [
       "[array([[ 0,  1],\n",
       "        [ 4,  5],\n",
       "        [ 8,  9],\n",
       "        [12, 13]]),\n",
       " array([[ 2,  3],\n",
       "        [ 6,  7],\n",
       "        [10, 11],\n",
       "        [14, 15]])]"
      ]
     },
     "execution_count": 18,
     "metadata": {},
     "output_type": "execute_result"
    }
   ],
   "source": [
    "np.hsplit(m,[2])"
   ]
  },
  {
   "cell_type": "code",
   "execution_count": 21,
   "id": "16d6e9c9-175a-40ec-9bf2-95a975167d1e",
   "metadata": {},
   "outputs": [],
   "source": [
    "sag,sol=np.hsplit(m,[2])"
   ]
  },
  {
   "cell_type": "code",
   "execution_count": 22,
   "id": "1f3b3ee5-332f-4710-ae8b-af19b69ba5c7",
   "metadata": {},
   "outputs": [
    {
     "data": {
      "text/plain": [
       "array([[ 0,  1],\n",
       "       [ 4,  5],\n",
       "       [ 8,  9],\n",
       "       [12, 13]])"
      ]
     },
     "execution_count": 22,
     "metadata": {},
     "output_type": "execute_result"
    }
   ],
   "source": [
    "sag"
   ]
  },
  {
   "cell_type": "code",
   "execution_count": 23,
   "id": "ecaaa291-c81e-4767-9ed3-29a407ab3770",
   "metadata": {},
   "outputs": [
    {
     "data": {
      "text/plain": [
       "array([[ 2,  3],\n",
       "       [ 6,  7],\n",
       "       [10, 11],\n",
       "       [14, 15]])"
      ]
     },
     "execution_count": 23,
     "metadata": {},
     "output_type": "execute_result"
    }
   ],
   "source": [
    "sol"
   ]
  },
  {
   "cell_type": "markdown",
   "id": "4000a436-283a-4716-b6a8-549330daa24b",
   "metadata": {},
   "source": [
    "**Sıralama (Sorting)**"
   ]
  },
  {
   "cell_type": "code",
   "execution_count": 30,
   "id": "82729a1f-57e4-459b-9136-cdf9d7e3ce06",
   "metadata": {},
   "outputs": [],
   "source": [
    "v=np.array([2,1,4,5,3])\n"
   ]
  },
  {
   "cell_type": "code",
   "execution_count": 25,
   "id": "5a941451-599e-4711-ba89-6d7d98b75552",
   "metadata": {},
   "outputs": [
    {
     "data": {
      "text/plain": [
       "array([2, 1, 4, 5, 3])"
      ]
     },
     "execution_count": 25,
     "metadata": {},
     "output_type": "execute_result"
    }
   ],
   "source": [
    "v"
   ]
  },
  {
   "cell_type": "code",
   "execution_count": 31,
   "id": "3dcc107b-45e0-4892-82dc-d544734a1efb",
   "metadata": {},
   "outputs": [
    {
     "data": {
      "text/plain": [
       "array([1, 2, 3, 4, 5])"
      ]
     },
     "execution_count": 31,
     "metadata": {},
     "output_type": "execute_result"
    }
   ],
   "source": [
    "np.sort(v)\n",
    "#Numpyın içerisinden çağırıldığında veri setinin orjinal yapısını bozmaz."
   ]
  },
  {
   "cell_type": "code",
   "execution_count": 32,
   "id": "336c3a2d-b651-4b79-9ab7-72ed1b62485e",
   "metadata": {},
   "outputs": [],
   "source": [
    "v.sort()\n",
    "#Veri setinin yapısını kalıcı olarak değiştirir."
   ]
  },
  {
   "cell_type": "code",
   "execution_count": 28,
   "id": "d5508b7a-01e6-4a10-ac81-3fa2c279f59b",
   "metadata": {},
   "outputs": [
    {
     "data": {
      "text/plain": [
       "array([1, 2, 3, 4, 5])"
      ]
     },
     "execution_count": 28,
     "metadata": {},
     "output_type": "execute_result"
    }
   ],
   "source": [
    "v"
   ]
  },
  {
   "cell_type": "markdown",
   "id": "4076dcb0-6644-4bf8-9fca-226b44893a93",
   "metadata": {},
   "source": [
    "* İki boyutlu array sıralama"
   ]
  },
  {
   "cell_type": "code",
   "execution_count": 34,
   "id": "fc05f747-4dd7-4ed0-aa23-ce22a9552896",
   "metadata": {},
   "outputs": [],
   "source": [
    "m=np.random.normal(20,5,(3,3))\n",
    "#np.random.normal(Ortalama,Standart Sapma,Array boyutu)"
   ]
  },
  {
   "cell_type": "code",
   "execution_count": 35,
   "id": "c8295f03-af60-447a-8ce4-c6d2dac380a6",
   "metadata": {},
   "outputs": [
    {
     "data": {
      "text/plain": [
       "array([[21.25132576, 22.79917176, 19.30462208],\n",
       "       [18.74293778, 26.38198374, 13.94354321],\n",
       "       [17.38131012, 18.75260747, 21.50891312]])"
      ]
     },
     "execution_count": 35,
     "metadata": {},
     "output_type": "execute_result"
    }
   ],
   "source": [
    "m"
   ]
  },
  {
   "cell_type": "code",
   "execution_count": 36,
   "id": "f095c154-4ed7-4497-9cff-1785848f4853",
   "metadata": {},
   "outputs": [
    {
     "data": {
      "text/plain": [
       "array([[19.30462208, 21.25132576, 22.79917176],\n",
       "       [13.94354321, 18.74293778, 26.38198374],\n",
       "       [17.38131012, 18.75260747, 21.50891312]])"
      ]
     },
     "execution_count": 36,
     "metadata": {},
     "output_type": "execute_result"
    }
   ],
   "source": [
    "#Satırları sıralama\n",
    "np.sort(m,axis=1)"
   ]
  },
  {
   "cell_type": "code",
   "execution_count": 37,
   "id": "50ba50e3-d6c0-4112-aa2e-8b1c012c3285",
   "metadata": {},
   "outputs": [
    {
     "data": {
      "text/plain": [
       "array([[17.38131012, 18.75260747, 13.94354321],\n",
       "       [18.74293778, 22.79917176, 19.30462208],\n",
       "       [21.25132576, 26.38198374, 21.50891312]])"
      ]
     },
     "execution_count": 37,
     "metadata": {},
     "output_type": "execute_result"
    }
   ],
   "source": [
    "#Sütunları sıralama\n",
    "np.sort(m,axis=0)"
   ]
  },
  {
   "cell_type": "code",
   "execution_count": null,
   "id": "95719abd-4e2f-4642-a93f-655c3f023533",
   "metadata": {},
   "outputs": [],
   "source": []
  },
  {
   "cell_type": "markdown",
   "id": "f3809db4-c766-4e5f-925c-0127e77d26d6",
   "metadata": {},
   "source": [
    "**Index ile Elemanlara Erişmek**"
   ]
  },
  {
   "cell_type": "code",
   "execution_count": 39,
   "id": "d4cbcca4-2e03-488f-878f-02e83d4d04f4",
   "metadata": {},
   "outputs": [
    {
     "data": {
      "text/plain": [
       "array([6, 4, 5, 8, 2, 7, 9, 8, 2, 3])"
      ]
     },
     "execution_count": 39,
     "metadata": {},
     "output_type": "execute_result"
    }
   ],
   "source": [
    "a=np.random.randint(10,size=10)\n",
    "a"
   ]
  },
  {
   "cell_type": "code",
   "execution_count": 44,
   "id": "eca141a3-8e96-45a4-8c0e-603dc0bd8e45",
   "metadata": {
    "collapsed": true,
    "jupyter": {
     "outputs_hidden": true
    },
    "scrolled": true
   },
   "outputs": [
    {
     "data": {
      "text/plain": [
       "100"
      ]
     },
     "execution_count": 44,
     "metadata": {},
     "output_type": "execute_result"
    }
   ],
   "source": [
    "a[0] "
   ]
  },
  {
   "cell_type": "code",
   "execution_count": 41,
   "id": "f0ed4fe7-cddc-4955-83f1-33b4dd6e2ef9",
   "metadata": {},
   "outputs": [
    {
     "data": {
      "text/plain": [
       "3"
      ]
     },
     "execution_count": 41,
     "metadata": {},
     "output_type": "execute_result"
    }
   ],
   "source": [
    "a[-1]"
   ]
  },
  {
   "cell_type": "code",
   "execution_count": 42,
   "id": "39c9a0bd-1b24-42d8-ab15-675a387c258a",
   "metadata": {},
   "outputs": [],
   "source": [
    "a[0]=100"
   ]
  },
  {
   "cell_type": "code",
   "execution_count": 43,
   "id": "55a1c103-4e64-4e3f-ac1d-8b92f6774623",
   "metadata": {},
   "outputs": [
    {
     "data": {
      "text/plain": [
       "array([100,   4,   5,   8,   2,   7,   9,   8,   2,   3])"
      ]
     },
     "execution_count": 43,
     "metadata": {},
     "output_type": "execute_result"
    }
   ],
   "source": [
    "a"
   ]
  },
  {
   "cell_type": "code",
   "execution_count": 46,
   "id": "4796fac0-dc1d-47dc-b580-5cc210250b6a",
   "metadata": {},
   "outputs": [
    {
     "data": {
      "text/plain": [
       "array([[2, 9, 0, 5, 0],\n",
       "       [9, 4, 0, 5, 5],\n",
       "       [2, 3, 0, 7, 0]])"
      ]
     },
     "execution_count": 46,
     "metadata": {},
     "output_type": "execute_result"
    }
   ],
   "source": [
    "m=np.random.randint(10,size=(3,5))\n",
    "m"
   ]
  },
  {
   "cell_type": "code",
   "execution_count": 48,
   "id": "541ee9be-eba4-49dd-94a6-00c6372bc013",
   "metadata": {},
   "outputs": [
    {
     "data": {
      "text/plain": [
       "2"
      ]
     },
     "execution_count": 48,
     "metadata": {},
     "output_type": "execute_result"
    }
   ],
   "source": [
    "m[0,0]"
   ]
  },
  {
   "cell_type": "code",
   "execution_count": 49,
   "id": "fe025604-a45e-4bfb-8598-d6c336ace9f8",
   "metadata": {},
   "outputs": [
    {
     "data": {
      "text/plain": [
       "4"
      ]
     },
     "execution_count": 49,
     "metadata": {},
     "output_type": "execute_result"
    }
   ],
   "source": [
    "m[1,1]"
   ]
  },
  {
   "cell_type": "code",
   "execution_count": 51,
   "id": "9f323f09-db1e-4b27-8963-5420d0ff71b9",
   "metadata": {},
   "outputs": [
    {
     "data": {
      "text/plain": [
       "7"
      ]
     },
     "execution_count": 51,
     "metadata": {},
     "output_type": "execute_result"
    }
   ],
   "source": [
    "m[2,3]"
   ]
  },
  {
   "cell_type": "code",
   "execution_count": 52,
   "id": "403ee87c-3043-4af7-9d68-edc08dd45b9b",
   "metadata": {},
   "outputs": [],
   "source": [
    "m[1,3]=99"
   ]
  },
  {
   "cell_type": "markdown",
   "id": "f27cf751-6e5e-433a-b681-6c1f6448b440",
   "metadata": {},
   "source": [
    "m"
   ]
  },
  {
   "cell_type": "code",
   "execution_count": 54,
   "id": "f27cb49a-fad5-48a4-9274-79eeb6f42d39",
   "metadata": {},
   "outputs": [],
   "source": [
    "m[2,4]=2.2"
   ]
  },
  {
   "cell_type": "code",
   "execution_count": 57,
   "id": "83ad8f6b-8072-4d56-8cc6-114c85bb71e7",
   "metadata": {},
   "outputs": [
    {
     "data": {
      "text/plain": [
       "array([[ 2,  9,  0,  5,  0],\n",
       "       [ 9,  4,  0, 99,  5],\n",
       "       [ 2,  3,  0,  7,  2]])"
      ]
     },
     "execution_count": 57,
     "metadata": {},
     "output_type": "execute_result"
    }
   ],
   "source": [
    "m\n",
    "#Arrayın tipi int olduğu için float değerin tam kısmını alır."
   ]
  },
  {
   "cell_type": "markdown",
   "id": "c190adbd-9447-43aa-bec2-da5178c7faee",
   "metadata": {},
   "source": [
    "Not:İçerisinde oluşturma esnasında sadece 1 tane ondalıklı değer varsa bütün arrayin tipini\n",
    "ondalıklı olarak görür. Fakat var olan değere dışarıdan Array dışı farklı bir tiple ekleme yapmaya çalıştığımızda Arrayin tipi geçerli olur."
   ]
  },
  {
   "cell_type": "markdown",
   "id": "41d97f17-6fdb-4862-bec6-c1477ae7877b",
   "metadata": {},
   "source": [
    "**Array Alt Küme İşlemleri**"
   ]
  },
  {
   "cell_type": "markdown",
   "id": "790ea30d-bdd7-4215-b2a8-9783e7aaff0c",
   "metadata": {},
   "source": [
    "* Slicing ile Elemanlara Erişmek (Array Alt Kümesine Erişmek)"
   ]
  },
  {
   "cell_type": "code",
   "execution_count": 64,
   "id": "95dd0f0e-5293-49ff-836a-85b9a47f4236",
   "metadata": {},
   "outputs": [
    {
     "data": {
      "text/plain": [
       "array([20, 21, 22, 23, 24, 25, 26, 27, 28, 29])"
      ]
     },
     "execution_count": 64,
     "metadata": {},
     "output_type": "execute_result"
    }
   ],
   "source": [
    "a=np.arange(20,30)\n",
    "a"
   ]
  },
  {
   "cell_type": "code",
   "execution_count": 61,
   "id": "d73e38bd-97a1-43e2-bec7-93125517e60e",
   "metadata": {},
   "outputs": [
    {
     "data": {
      "text/plain": [
       "array([20, 21, 22])"
      ]
     },
     "execution_count": 61,
     "metadata": {},
     "output_type": "execute_result"
    }
   ],
   "source": [
    "a[0:3]"
   ]
  },
  {
   "cell_type": "code",
   "execution_count": 62,
   "id": "c853e82d-f94e-42ff-82c8-b296b78c10a0",
   "metadata": {},
   "outputs": [
    {
     "data": {
      "text/plain": [
       "array([20, 21, 22])"
      ]
     },
     "execution_count": 62,
     "metadata": {},
     "output_type": "execute_result"
    }
   ],
   "source": [
    "a[:3]"
   ]
  },
  {
   "cell_type": "code",
   "execution_count": 63,
   "id": "f91e13ed-371e-4209-985f-9145c106b4c0",
   "metadata": {},
   "outputs": [
    {
     "data": {
      "text/plain": [
       "array([23, 24, 25, 26, 27, 28, 29])"
      ]
     },
     "execution_count": 63,
     "metadata": {},
     "output_type": "execute_result"
    }
   ],
   "source": [
    "a[3:]"
   ]
  },
  {
   "cell_type": "code",
   "execution_count": 65,
   "id": "157cd76d-7cab-48d0-ba4e-460ae79d59d7",
   "metadata": {},
   "outputs": [
    {
     "data": {
      "text/plain": [
       "array([21, 23, 25, 27, 29])"
      ]
     },
     "execution_count": 65,
     "metadata": {},
     "output_type": "execute_result"
    }
   ],
   "source": [
    "a[1::2]"
   ]
  },
  {
   "cell_type": "code",
   "execution_count": 66,
   "id": "d5facbd7-27bd-4162-a27e-a0417b1db10f",
   "metadata": {},
   "outputs": [
    {
     "data": {
      "text/plain": [
       "array([20, 22, 24, 26, 28])"
      ]
     },
     "execution_count": 66,
     "metadata": {},
     "output_type": "execute_result"
    }
   ],
   "source": [
    "a[0::2]"
   ]
  },
  {
   "cell_type": "markdown",
   "id": "4cc51a40-50cf-4beb-9d1a-2e5502f67289",
   "metadata": {},
   "source": [
    "* İki boyutlu slice işlemleri"
   ]
  },
  {
   "cell_type": "code",
   "execution_count": 67,
   "id": "0760b343-8a38-4bb3-8943-cd293dd3bfd7",
   "metadata": {},
   "outputs": [],
   "source": [
    "m=np.random.randint(10,size=(5,5))"
   ]
  },
  {
   "cell_type": "code",
   "execution_count": 69,
   "id": "01887760-8f44-4761-a6ef-bf9691f3400f",
   "metadata": {},
   "outputs": [
    {
     "data": {
      "text/plain": [
       "array([[2, 9, 3, 6, 6],\n",
       "       [3, 8, 3, 2, 1],\n",
       "       [3, 5, 8, 0, 0],\n",
       "       [8, 2, 9, 6, 3],\n",
       "       [2, 0, 1, 7, 2]])"
      ]
     },
     "execution_count": 69,
     "metadata": {},
     "output_type": "execute_result"
    }
   ],
   "source": [
    "m"
   ]
  },
  {
   "cell_type": "code",
   "execution_count": 73,
   "id": "1c67a61b-955f-4ed8-8e5c-4f2237016a78",
   "metadata": {},
   "outputs": [
    {
     "data": {
      "text/plain": [
       "array([2, 3, 3, 8, 2])"
      ]
     },
     "execution_count": 73,
     "metadata": {},
     "output_type": "execute_result"
    }
   ],
   "source": [
    "#m[Satır:,Sütun]\n",
    "m[:,0]"
   ]
  },
  {
   "cell_type": "code",
   "execution_count": 72,
   "id": "8c4f1613-c78c-4022-b020-247acbfbd054",
   "metadata": {},
   "outputs": [
    {
     "data": {
      "text/plain": [
       "array([9, 8, 5, 2, 0])"
      ]
     },
     "execution_count": 72,
     "metadata": {},
     "output_type": "execute_result"
    }
   ],
   "source": [
    "m[:,1]"
   ]
  },
  {
   "cell_type": "code",
   "execution_count": 74,
   "id": "1d277aa0-3641-41b0-a96c-d8f6e2f05633",
   "metadata": {},
   "outputs": [
    {
     "data": {
      "text/plain": [
       "array([2, 9, 3, 6, 6])"
      ]
     },
     "execution_count": 74,
     "metadata": {},
     "output_type": "execute_result"
    }
   ],
   "source": [
    "m[0,:]"
   ]
  },
  {
   "cell_type": "code",
   "execution_count": 75,
   "id": "2198eb4a-e415-4545-9f48-ebcd292271c4",
   "metadata": {},
   "outputs": [
    {
     "data": {
      "text/plain": [
       "array([3, 8, 3, 2, 1])"
      ]
     },
     "execution_count": 75,
     "metadata": {},
     "output_type": "execute_result"
    }
   ],
   "source": [
    "m[1,:]"
   ]
  },
  {
   "cell_type": "code",
   "execution_count": 77,
   "id": "e5ca150a-8871-41c6-b96b-bcb391654c3a",
   "metadata": {},
   "outputs": [
    {
     "data": {
      "text/plain": [
       "array([[2, 9, 3],\n",
       "       [3, 8, 3]])"
      ]
     },
     "execution_count": 77,
     "metadata": {},
     "output_type": "execute_result"
    }
   ],
   "source": [
    "#0 dan 2 ye kadar satırlar.\n",
    "#0 dan 3 e kadar sütunlar.\n",
    "m[0:2,0:3]"
   ]
  },
  {
   "cell_type": "code",
   "execution_count": 79,
   "id": "1edbd2ee-485e-4992-ba5c-86ec556dcd75",
   "metadata": {},
   "outputs": [
    {
     "data": {
      "text/plain": [
       "array([[2, 9],\n",
       "       [3, 8],\n",
       "       [3, 5],\n",
       "       [8, 2],\n",
       "       [2, 0]])"
      ]
     },
     "execution_count": 79,
     "metadata": {},
     "output_type": "execute_result"
    }
   ],
   "source": [
    "m[:,0:2]"
   ]
  },
  {
   "cell_type": "code",
   "execution_count": 80,
   "id": "1ac65f49-1d79-43b6-9478-a94f5e889b46",
   "metadata": {},
   "outputs": [
    {
     "data": {
      "text/plain": [
       "array([[3, 8],\n",
       "       [3, 5]])"
      ]
     },
     "execution_count": 80,
     "metadata": {},
     "output_type": "execute_result"
    }
   ],
   "source": [
    "m[1:3,0:2]"
   ]
  },
  {
   "cell_type": "markdown",
   "id": "8c693c5a-0df6-47eb-958e-3b49c9b07f12",
   "metadata": {},
   "source": [
    "Arraylarin alt kümelerinde işlem yapıp kaydettiğimizde sonradan değişiklik yaparsak ilk halindede değişim olur yani referans tipinde tutar. Aşağıda örnekleri verilmiştir."
   ]
  },
  {
   "cell_type": "code",
   "execution_count": 91,
   "id": "4679355c-8f52-4a67-980c-6f16c66833ed",
   "metadata": {},
   "outputs": [
    {
     "data": {
      "text/plain": [
       "array([[5, 8, 2, 0, 9],\n",
       "       [5, 4, 5, 4, 6],\n",
       "       [8, 1, 1, 4, 0],\n",
       "       [4, 6, 7, 9, 2],\n",
       "       [6, 2, 9, 5, 6]])"
      ]
     },
     "execution_count": 91,
     "metadata": {},
     "output_type": "execute_result"
    }
   ],
   "source": [
    "a=np.random.randint(10,size=(5,5))\n",
    "a"
   ]
  },
  {
   "cell_type": "code",
   "execution_count": 92,
   "id": "62597ce0-2ec6-48d2-9c6f-1e27cb10ea28",
   "metadata": {},
   "outputs": [
    {
     "data": {
      "text/plain": [
       "array([[5, 8],\n",
       "       [5, 4],\n",
       "       [8, 1]])"
      ]
     },
     "execution_count": 92,
     "metadata": {},
     "output_type": "execute_result"
    }
   ],
   "source": [
    "alt_a=a[0:3,0:2]\n",
    "alt_a\n"
   ]
  },
  {
   "cell_type": "code",
   "execution_count": 93,
   "id": "a171b97c-9e99-4f4c-883c-616d8a601554",
   "metadata": {},
   "outputs": [],
   "source": [
    "alt_a[0,0]=999"
   ]
  },
  {
   "cell_type": "code",
   "execution_count": 94,
   "id": "48daea21-5177-4408-8d91-a74b3750e302",
   "metadata": {},
   "outputs": [],
   "source": [
    "alt_a[1,1]=888"
   ]
  },
  {
   "cell_type": "code",
   "execution_count": 95,
   "id": "05aa7711-9259-4cf8-8aea-f55313f1afb5",
   "metadata": {},
   "outputs": [
    {
     "data": {
      "text/plain": [
       "array([[999,   8],\n",
       "       [  5, 888],\n",
       "       [  8,   1]])"
      ]
     },
     "execution_count": 95,
     "metadata": {},
     "output_type": "execute_result"
    }
   ],
   "source": [
    "alt_a"
   ]
  },
  {
   "cell_type": "code",
   "execution_count": 96,
   "id": "4485c3be-e33b-47f3-a159-94b4284708dd",
   "metadata": {},
   "outputs": [
    {
     "data": {
      "text/plain": [
       "array([[999,   8,   2,   0,   9],\n",
       "       [  5, 888,   5,   4,   6],\n",
       "       [  8,   1,   1,   4,   0],\n",
       "       [  4,   6,   7,   9,   2],\n",
       "       [  6,   2,   9,   5,   6]])"
      ]
     },
     "execution_count": 96,
     "metadata": {},
     "output_type": "execute_result"
    }
   ],
   "source": [
    "a"
   ]
  },
  {
   "cell_type": "markdown",
   "id": "ee19ed79-e733-49ae-8d39-a31a322e73e5",
   "metadata": {},
   "source": [
    "**Alt Küme Üzerinde İşlem Yapmak**"
   ]
  },
  {
   "cell_type": "markdown",
   "id": "2867b031-fc76-44ba-a373-7c3a8ee42cee",
   "metadata": {},
   "source": [
    "Alt kümeye özel işlemler yapmak istediğimizde (Yani hem ilk durumu korumak istiyoruz hemde alt kümeye özel işlem yapmak istiyoruz.)\n",
    "bu yöntemleri kullanabiliriz.--->copy()\n",
    " "
   ]
  },
  {
   "cell_type": "code",
   "execution_count": 100,
   "id": "59e59b20-dbbb-4341-a786-80e6a60b9372",
   "metadata": {},
   "outputs": [
    {
     "data": {
      "text/plain": [
       "array([[1, 3, 3, 7, 9],\n",
       "       [6, 6, 0, 1, 1],\n",
       "       [6, 0, 7, 6, 0],\n",
       "       [4, 0, 3, 3, 1],\n",
       "       [4, 7, 6, 3, 7]])"
      ]
     },
     "execution_count": 100,
     "metadata": {},
     "output_type": "execute_result"
    }
   ],
   "source": [
    "m=np.random.randint(10,size=(5,5))\n",
    "m"
   ]
  },
  {
   "cell_type": "code",
   "execution_count": 103,
   "id": "c312f0ed-313e-42f0-bafc-e64caf16754b",
   "metadata": {},
   "outputs": [
    {
     "data": {
      "text/plain": [
       "array([[1, 3],\n",
       "       [6, 6],\n",
       "       [6, 0]])"
      ]
     },
     "execution_count": 103,
     "metadata": {},
     "output_type": "execute_result"
    }
   ],
   "source": [
    "alt_m=m[0:3,0:2].copy()\n",
    "alt_m"
   ]
  },
  {
   "cell_type": "code",
   "execution_count": 106,
   "id": "48a1cc1b-21a7-416c-8b0b-bea6f57fd151",
   "metadata": {},
   "outputs": [],
   "source": [
    "alt_m[0,0]=999"
   ]
  },
  {
   "cell_type": "code",
   "execution_count": 107,
   "id": "33e12c6a-4c88-4177-8c3a-2444fafcd77b",
   "metadata": {},
   "outputs": [
    {
     "data": {
      "text/plain": [
       "array([[999,   3],\n",
       "       [  6,   6],\n",
       "       [  6,   0]])"
      ]
     },
     "execution_count": 107,
     "metadata": {},
     "output_type": "execute_result"
    }
   ],
   "source": [
    "alt_m"
   ]
  },
  {
   "cell_type": "code",
   "execution_count": 108,
   "id": "22789824-4110-4de9-b1d6-3de46cf22d36",
   "metadata": {},
   "outputs": [
    {
     "data": {
      "text/plain": [
       "array([[1, 3, 3, 7, 9],\n",
       "       [6, 6, 0, 1, 1],\n",
       "       [6, 0, 7, 6, 0],\n",
       "       [4, 0, 3, 3, 1],\n",
       "       [4, 7, 6, 3, 7]])"
      ]
     },
     "execution_count": 108,
     "metadata": {},
     "output_type": "execute_result"
    }
   ],
   "source": [
    "m"
   ]
  },
  {
   "cell_type": "code",
   "execution_count": null,
   "id": "cec1f883-2809-4add-9bd4-a9dde7489e36",
   "metadata": {},
   "outputs": [],
   "source": []
  }
 ],
 "metadata": {
  "kernelspec": {
   "display_name": "Python 3 (ipykernel)",
   "language": "python",
   "name": "python3"
  },
  "language_info": {
   "codemirror_mode": {
    "name": "ipython",
    "version": 3
   },
   "file_extension": ".py",
   "mimetype": "text/x-python",
   "name": "python",
   "nbconvert_exporter": "python",
   "pygments_lexer": "ipython3",
   "version": "3.11.5"
  }
 },
 "nbformat": 4,
 "nbformat_minor": 5
}
