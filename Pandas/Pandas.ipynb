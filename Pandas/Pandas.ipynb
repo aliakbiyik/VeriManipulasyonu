{
 "cells": [
  {
   "cell_type": "markdown",
   "id": "494502aa-12fa-4e4d-9714-06708d020df8",
   "metadata": {},
   "source": [
    "**Pandas (Panel Data)**"
   ]
  },
  {
   "cell_type": "markdown",
   "id": "33e4b550-f38d-42d0-bdd0-af7386483558",
   "metadata": {},
   "source": [
    "* Veri manipülasyonu ve veri analizi için yazılmış açık kaynak kodlu bir Python kütüphanesidir.\n",
    "* Ekonomik ve finansal çalışmalar için doğmuştur.\n",
    "* Temeli 2008 yılında atılmıştır.\n",
    "* R DataFrame yapısını Python dünyasına taşımış ve DataFrame'ler üzerinde hızlı ve etkili çalışabilme imkanı sağlamıştır.\n",
    "* Bir çok farklı veri tipini okuma ve yazma imkanı sağlar."
   ]
  },
  {
   "cell_type": "markdown",
   "id": "134d7bb1-50b9-4eed-9b1d-ee0bcbebbd2f",
   "metadata": {},
   "source": [
    "**Pandas Serisi Oluşturmak**"
   ]
  },
  {
   "cell_type": "code",
   "execution_count": 2,
   "id": "39fd33ed-26c1-4594-ac20-6b7dd9e0ba25",
   "metadata": {},
   "outputs": [],
   "source": [
    "import pandas as pd"
   ]
  },
  {
   "cell_type": "code",
   "execution_count": 6,
   "id": "1ffa7256-d8d5-47e9-8d08-3c34c8868458",
   "metadata": {},
   "outputs": [
    {
     "data": {
      "text/plain": [
       "0     10\n",
       "1     82\n",
       "2    653\n",
       "3    524\n",
       "4     15\n",
       "dtype: int64"
      ]
     },
     "execution_count": 6,
     "metadata": {},
     "output_type": "execute_result"
    }
   ],
   "source": [
    "#İlk sutun index\n",
    "pd.Series([10,82,653,524,15])"
   ]
  },
  {
   "cell_type": "code",
   "execution_count": 7,
   "id": "8c90a05f-0cd8-407e-9e57-5e8a9bed964b",
   "metadata": {},
   "outputs": [],
   "source": [
    "seri=pd.Series([10,82,653,524,15])"
   ]
  },
  {
   "cell_type": "code",
   "execution_count": 8,
   "id": "3fb6b4ac-23d5-4b5c-930e-b2ede7997ee0",
   "metadata": {},
   "outputs": [
    {
     "data": {
      "text/plain": [
       "pandas.core.series.Series"
      ]
     },
     "execution_count": 8,
     "metadata": {},
     "output_type": "execute_result"
    }
   ],
   "source": [
    "type(seri)"
   ]
  },
  {
   "cell_type": "code",
   "execution_count": 10,
   "id": "508fced2-bc63-42e4-8800-cd1e32eb7fbb",
   "metadata": {},
   "outputs": [
    {
     "data": {
      "text/plain": [
       "[RangeIndex(start=0, stop=5, step=1)]"
      ]
     },
     "execution_count": 10,
     "metadata": {},
     "output_type": "execute_result"
    }
   ],
   "source": [
    "#İndex bilgilerine erişme\n",
    "seri.axes"
   ]
  },
  {
   "cell_type": "code",
   "execution_count": 12,
   "id": "b0dbd2db-cadf-4361-b5a6-bedccf61d78d",
   "metadata": {},
   "outputs": [
    {
     "data": {
      "text/plain": [
       "dtype('int64')"
      ]
     },
     "execution_count": 12,
     "metadata": {},
     "output_type": "execute_result"
    }
   ],
   "source": [
    "seri.dtype"
   ]
  },
  {
   "cell_type": "code",
   "execution_count": 13,
   "id": "ed6ae39e-331e-436a-896f-71c230b84225",
   "metadata": {},
   "outputs": [
    {
     "data": {
      "text/plain": [
       "5"
      ]
     },
     "execution_count": 13,
     "metadata": {},
     "output_type": "execute_result"
    }
   ],
   "source": [
    "seri.size"
   ]
  },
  {
   "cell_type": "code",
   "execution_count": 14,
   "id": "ce2b5200-02e5-4047-9366-7961f9b23eb7",
   "metadata": {},
   "outputs": [
    {
     "data": {
      "text/plain": [
       "1"
      ]
     },
     "execution_count": 14,
     "metadata": {},
     "output_type": "execute_result"
    }
   ],
   "source": [
    "seri.ndim"
   ]
  },
  {
   "cell_type": "code",
   "execution_count": 23,
   "id": "7786b840-90fc-4b95-a823-22374d1a4d93",
   "metadata": {},
   "outputs": [
    {
     "data": {
      "text/plain": [
       "array([ 10,  82, 653, 524,  15], dtype=int64)"
      ]
     },
     "execution_count": 23,
     "metadata": {},
     "output_type": "execute_result"
    }
   ],
   "source": [
    "seri.values"
   ]
  },
  {
   "cell_type": "code",
   "execution_count": 24,
   "id": "4c18259d-1e2c-4ab5-8abe-d66afc1e334e",
   "metadata": {},
   "outputs": [
    {
     "data": {
      "text/plain": [
       "0     10\n",
       "1     82\n",
       "2    653\n",
       "dtype: int64"
      ]
     },
     "execution_count": 24,
     "metadata": {},
     "output_type": "execute_result"
    }
   ],
   "source": [
    "#İlk 3 değeri döndürür.Defaultu 5'tir.\n",
    "seri.head(3)"
   ]
  },
  {
   "cell_type": "code",
   "execution_count": 25,
   "id": "6ea0f36d-bd20-4fd9-bc7a-9a58f16c0bc3",
   "metadata": {},
   "outputs": [
    {
     "data": {
      "text/plain": [
       "2    653\n",
       "3    524\n",
       "4     15\n",
       "dtype: int64"
      ]
     },
     "execution_count": 25,
     "metadata": {},
     "output_type": "execute_result"
    }
   ],
   "source": [
    "#Son 3 değeri döndürür.Defaultu 5'tir.\n",
    "seri.tail(3)"
   ]
  },
  {
   "cell_type": "markdown",
   "id": "cc7af907-bb66-40ba-84f9-ddd7f94e8cb7",
   "metadata": {},
   "source": [
    "* İndex İsimlendirmesi"
   ]
  },
  {
   "cell_type": "code",
   "execution_count": 27,
   "id": "f65d2f0c-882c-47fc-9280-d9cd383bde78",
   "metadata": {},
   "outputs": [
    {
     "data": {
      "text/plain": [
       "0    10\n",
       "1    15\n",
       "2    21\n",
       "3    65\n",
       "4     5\n",
       "dtype: int64"
      ]
     },
     "execution_count": 27,
     "metadata": {},
     "output_type": "execute_result"
    }
   ],
   "source": [
    "pd.Series([10,15,21,65,5])"
   ]
  },
  {
   "cell_type": "code",
   "execution_count": 31,
   "id": "665004dc-fc12-4739-a568-e4ae6921cbda",
   "metadata": {},
   "outputs": [
    {
     "data": {
      "text/plain": [
       "1    10\n",
       "3    15\n",
       "5    21\n",
       "7    65\n",
       "9     5\n",
       "dtype: int64"
      ]
     },
     "execution_count": 31,
     "metadata": {},
     "output_type": "execute_result"
    }
   ],
   "source": [
    "pd.Series([10,15,21,65,5],index=[1,3,5,7,9])"
   ]
  },
  {
   "cell_type": "code",
   "execution_count": 32,
   "id": "fbb872e3-ca27-4b31-8fee-c6a1a98489c3",
   "metadata": {},
   "outputs": [
    {
     "data": {
      "text/plain": [
       "a    10\n",
       "b    15\n",
       "c    21\n",
       "d    65\n",
       "e     5\n",
       "dtype: int64"
      ]
     },
     "execution_count": 32,
     "metadata": {},
     "output_type": "execute_result"
    }
   ],
   "source": [
    "pd.Series([10,15,21,65,5],index=[\"a\",\"b\",\"c\",\"d\",\"e\"])"
   ]
  },
  {
   "cell_type": "code",
   "execution_count": 33,
   "id": "7fc0f912-d6de-4b47-9af7-1600d88b667f",
   "metadata": {},
   "outputs": [],
   "source": [
    "seri=pd.Series([10,15,21,65,5],index=[\"a\",\"b\",\"c\",\"d\",\"e\"])"
   ]
  },
  {
   "cell_type": "code",
   "execution_count": 35,
   "id": "f3e22470-83db-4d94-b6f5-e60b2da7a7a9",
   "metadata": {},
   "outputs": [
    {
     "data": {
      "text/plain": [
       "21"
      ]
     },
     "execution_count": 35,
     "metadata": {},
     "output_type": "execute_result"
    }
   ],
   "source": [
    "seri[\"c\"]"
   ]
  },
  {
   "cell_type": "code",
   "execution_count": 36,
   "id": "04c83591-12c9-442c-9f03-8599f6b603c5",
   "metadata": {},
   "outputs": [
    {
     "data": {
      "text/plain": [
       "a    10\n",
       "b    15\n",
       "c    21\n",
       "dtype: int64"
      ]
     },
     "execution_count": 36,
     "metadata": {},
     "output_type": "execute_result"
    }
   ],
   "source": [
    "seri[\"a\":\"c\"]"
   ]
  },
  {
   "cell_type": "markdown",
   "id": "3531094a-61d1-4444-8f04-fb0aa00db5a7",
   "metadata": {},
   "source": [
    "* Sozlük üzerinden liste oluşturmak"
   ]
  },
  {
   "cell_type": "code",
   "execution_count": 39,
   "id": "b4035528-0ae4-4184-b397-5562c0aa0254",
   "metadata": {},
   "outputs": [],
   "source": [
    "sozluk={\"reg\":10,\"log\":11,\"cart\":12}"
   ]
  },
  {
   "cell_type": "code",
   "execution_count": 40,
   "id": "7ad5f851-d505-4182-aacd-8b82d886ce3b",
   "metadata": {},
   "outputs": [],
   "source": [
    "seri=pd.Series(sozluk)"
   ]
  },
  {
   "cell_type": "code",
   "execution_count": 42,
   "id": "e02e124b-3196-4616-a2f2-3266456a2b38",
   "metadata": {},
   "outputs": [
    {
     "data": {
      "text/plain": [
       "reg     10\n",
       "log     11\n",
       "cart    12\n",
       "dtype: int64"
      ]
     },
     "execution_count": 42,
     "metadata": {},
     "output_type": "execute_result"
    }
   ],
   "source": [
    "seri"
   ]
  },
  {
   "cell_type": "code",
   "execution_count": 43,
   "id": "cfbe4d6f-48f0-44b0-b95d-2d3563e79c7e",
   "metadata": {},
   "outputs": [
    {
     "data": {
      "text/plain": [
       "log     11\n",
       "cart    12\n",
       "dtype: int64"
      ]
     },
     "execution_count": 43,
     "metadata": {},
     "output_type": "execute_result"
    }
   ],
   "source": [
    "seri[\"log\":\"cart\"]"
   ]
  },
  {
   "cell_type": "markdown",
   "id": "1369a81f-51a3-4d79-b27b-d08a648a5bba",
   "metadata": {},
   "source": [
    "* İki seriyi birleştirerek seri oluşturma"
   ]
  },
  {
   "cell_type": "code",
   "execution_count": 44,
   "id": "484b1aea-0e97-4b49-b004-a9874e5d00f5",
   "metadata": {},
   "outputs": [
    {
     "data": {
      "text/plain": [
       "reg     10\n",
       "log     11\n",
       "cart    12\n",
       "reg     10\n",
       "log     11\n",
       "cart    12\n",
       "dtype: int64"
      ]
     },
     "execution_count": 44,
     "metadata": {},
     "output_type": "execute_result"
    }
   ],
   "source": [
    "pd.concat([seri,seri])"
   ]
  },
  {
   "cell_type": "markdown",
   "id": "9b743ab6-9883-42e8-92bb-517b4b8fd775",
   "metadata": {},
   "source": [
    "Not: Seriler alt alta eklenir."
   ]
  },
  {
   "cell_type": "markdown",
   "id": "8a1f4ccc-9c86-43b8-a729-fda0db955a0c",
   "metadata": {},
   "source": [
    "* Eleman İşlemleri"
   ]
  },
  {
   "cell_type": "code",
   "execution_count": 46,
   "id": "1e3da09e-6e06-4196-bf98-5c6ed2548774",
   "metadata": {},
   "outputs": [],
   "source": [
    "import numpy as np"
   ]
  },
  {
   "cell_type": "code",
   "execution_count": 50,
   "id": "2a1d6318-aac8-4190-8f6a-00c54b4447a6",
   "metadata": {},
   "outputs": [
    {
     "data": {
      "text/plain": [
       "0    41\n",
       "1    24\n",
       "2    35\n",
       "3    47\n",
       "4    55\n",
       "dtype: int32"
      ]
     },
     "execution_count": 50,
     "metadata": {},
     "output_type": "execute_result"
    }
   ],
   "source": [
    "a=np.array([41,24,35,47,55])\n",
    "seri=pd.Series(a)\n",
    "seri"
   ]
  },
  {
   "cell_type": "code",
   "execution_count": 51,
   "id": "f787dcef-35d1-4e3e-a779-6abac4a232db",
   "metadata": {},
   "outputs": [
    {
     "data": {
      "text/plain": [
       "41"
      ]
     },
     "execution_count": 51,
     "metadata": {},
     "output_type": "execute_result"
    }
   ],
   "source": [
    "seri[0]"
   ]
  },
  {
   "cell_type": "code",
   "execution_count": 52,
   "id": "fdc424d0-33d6-4569-9c90-93947b422474",
   "metadata": {},
   "outputs": [
    {
     "data": {
      "text/plain": [
       "0    41\n",
       "1    24\n",
       "2    35\n",
       "dtype: int32"
      ]
     },
     "execution_count": 52,
     "metadata": {},
     "output_type": "execute_result"
    }
   ],
   "source": [
    "seri[0:3]"
   ]
  },
  {
   "cell_type": "code",
   "execution_count": 56,
   "id": "9963e38b-1262-4db9-b40c-8e825d594f9f",
   "metadata": {},
   "outputs": [],
   "source": [
    " seri=pd.Series([121,200,150,99],index=[\"reg\",\"loj\",\"cart\",\"rf\"])"
   ]
  },
  {
   "cell_type": "code",
   "execution_count": 57,
   "id": "f9aef32a-f4fe-4331-98a3-3e0f5f2732c5",
   "metadata": {},
   "outputs": [
    {
     "data": {
      "text/plain": [
       "reg     121\n",
       "loj     200\n",
       "cart    150\n",
       "rf       99\n",
       "dtype: int64"
      ]
     },
     "execution_count": 57,
     "metadata": {},
     "output_type": "execute_result"
    }
   ],
   "source": [
    "seri"
   ]
  },
  {
   "cell_type": "code",
   "execution_count": 59,
   "id": "e55aac68-23f4-4e4c-9d35-16af7528b5bd",
   "metadata": {},
   "outputs": [
    {
     "data": {
      "text/plain": [
       "Index(['reg', 'loj', 'cart', 'rf'], dtype='object')"
      ]
     },
     "execution_count": 59,
     "metadata": {},
     "output_type": "execute_result"
    }
   ],
   "source": [
    "#Sadece index değerlerine erişme\n",
    "seri.index"
   ]
  },
  {
   "cell_type": "code",
   "execution_count": 60,
   "id": "54aa9c0d-213a-4e0d-bce9-5b1ff3b1c783",
   "metadata": {},
   "outputs": [
    {
     "data": {
      "text/plain": [
       "<bound method Series.keys of reg     121\n",
       "loj     200\n",
       "cart    150\n",
       "rf       99\n",
       "dtype: int64>"
      ]
     },
     "execution_count": 60,
     "metadata": {},
     "output_type": "execute_result"
    }
   ],
   "source": [
    "#Sadece keys bilgilerini getirir\n",
    "seri.keys"
   ]
  },
  {
   "cell_type": "code",
   "execution_count": 62,
   "id": "dc02d916-b0e4-47bc-90fd-c0d0fee5d8e4",
   "metadata": {},
   "outputs": [
    {
     "data": {
      "text/plain": [
       "[('reg', 121), ('loj', 200), ('cart', 150), ('rf', 99)]"
      ]
     },
     "execution_count": 62,
     "metadata": {},
     "output_type": "execute_result"
    }
   ],
   "source": [
    "list(seri.items())"
   ]
  },
  {
   "cell_type": "code",
   "execution_count": 63,
   "id": "09357400-5c30-4d5c-a826-38dedb8b4cdf",
   "metadata": {},
   "outputs": [
    {
     "data": {
      "text/plain": [
       "array([121, 200, 150,  99], dtype=int64)"
      ]
     },
     "execution_count": 63,
     "metadata": {},
     "output_type": "execute_result"
    }
   ],
   "source": [
    "seri.values"
   ]
  },
  {
   "cell_type": "markdown",
   "id": "d4023593-c421-428a-8971-3d20f8f8e2be",
   "metadata": {},
   "source": [
    "* Eleman sorgulama"
   ]
  },
  {
   "cell_type": "code",
   "execution_count": 65,
   "id": "6b0c4364-ba6b-478e-a7c5-819a417738f6",
   "metadata": {},
   "outputs": [
    {
     "data": {
      "text/plain": [
       "True"
      ]
     },
     "execution_count": 65,
     "metadata": {},
     "output_type": "execute_result"
    }
   ],
   "source": [
    "#\"reg\" değerinin seride olup olmadığını sorgular.\n",
    "\"reg\" in seri"
   ]
  },
  {
   "cell_type": "code",
   "execution_count": 67,
   "id": "88673ad3-e7be-4909-8cb0-4e99c5f15efe",
   "metadata": {},
   "outputs": [
    {
     "data": {
      "text/plain": [
       "False"
      ]
     },
     "execution_count": 67,
     "metadata": {},
     "output_type": "execute_result"
    }
   ],
   "source": [
    "\"a\" in seri"
   ]
  },
  {
   "cell_type": "code",
   "execution_count": 68,
   "id": "920fdac1-61d9-4736-9385-b0a70f9460e1",
   "metadata": {},
   "outputs": [
    {
     "data": {
      "text/plain": [
       "121"
      ]
     },
     "execution_count": 68,
     "metadata": {},
     "output_type": "execute_result"
    }
   ],
   "source": [
    "seri[\"reg\"]"
   ]
  },
  {
   "cell_type": "markdown",
   "id": "b48cbefd-e1be-49a5-ba51-cefd9a303199",
   "metadata": {},
   "source": [
    "* Fancy ile eleman seçme"
   ]
  },
  {
   "cell_type": "code",
   "execution_count": 71,
   "id": "5d9dcfb7-816f-4acd-9c3d-929082b79d40",
   "metadata": {},
   "outputs": [
    {
     "data": {
      "text/plain": [
       "rf      99\n",
       "reg    121\n",
       "dtype: int64"
      ]
     },
     "execution_count": 71,
     "metadata": {},
     "output_type": "execute_result"
    }
   ],
   "source": [
    "seri[[\"rf\",\"reg\"]]"
   ]
  },
  {
   "cell_type": "code",
   "execution_count": 72,
   "id": "5d33ad61-7e55-4416-a9af-e462eedacb24",
   "metadata": {},
   "outputs": [],
   "source": [
    "seri[\"reg\"]=130"
   ]
  },
  {
   "cell_type": "code",
   "execution_count": 73,
   "id": "c5b9f515-78b7-4efa-9c66-312ef765ad28",
   "metadata": {},
   "outputs": [
    {
     "data": {
      "text/plain": [
       "reg     130\n",
       "loj     200\n",
       "cart    150\n",
       "rf       99\n",
       "dtype: int64"
      ]
     },
     "execution_count": 73,
     "metadata": {},
     "output_type": "execute_result"
    }
   ],
   "source": [
    "seri"
   ]
  },
  {
   "cell_type": "code",
   "execution_count": 76,
   "id": "85015736-45a2-453f-a3d5-084d39b7fd4c",
   "metadata": {},
   "outputs": [
    {
     "data": {
      "text/plain": [
       "reg    130\n",
       "loj    200\n",
       "dtype: int64"
      ]
     },
     "execution_count": 76,
     "metadata": {},
     "output_type": "execute_result"
    }
   ],
   "source": [
    "seri[\"reg\":\"loj\"]"
   ]
  },
  {
   "cell_type": "markdown",
   "id": "d734f52a-bd24-4bc0-8a9a-7dff71eabfad",
   "metadata": {},
   "source": [
    "**Pandas Dataframe**"
   ]
  },
  {
   "cell_type": "markdown",
   "id": "6904c893-dfe4-4a51-a471-8c3934423c34",
   "metadata": {},
   "source": [
    "* Pandas DataFrame Oluşturma"
   ]
  },
  {
   "cell_type": "code",
   "execution_count": null,
   "id": "f1749f6b-675a-4bf6-ab23-685ab69cd809",
   "metadata": {},
   "outputs": [],
   "source": []
  }
 ],
 "metadata": {
  "kernelspec": {
   "display_name": "Python 3 (ipykernel)",
   "language": "python",
   "name": "python3"
  },
  "language_info": {
   "codemirror_mode": {
    "name": "ipython",
    "version": 3
   },
   "file_extension": ".py",
   "mimetype": "text/x-python",
   "name": "python",
   "nbconvert_exporter": "python",
   "pygments_lexer": "ipython3",
   "version": "3.11.5"
  }
 },
 "nbformat": 4,
 "nbformat_minor": 5
}
